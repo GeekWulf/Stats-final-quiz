{
 "cells": [
  {
   "cell_type": "code",
   "execution_count": 28,
   "metadata": {},
   "outputs": [],
   "source": [
    "import pandas as pd\n",
    "import numpy as np\n",
    "from scipy import stats\n",
    "import statsmodels.api as sm\n",
    "from statsmodels.stats.weightstats import ztest\n",
    "from statsmodels.stats.proportion import proportions_ztest"
   ]
  },
  {
   "cell_type": "markdown",
   "metadata": {},
   "source": [
    "(5 คะแนน) บริษัทผลิตแจกัน แห่งหนึ่งได้ทําการสํารวจสินค้าที่ทางบริษัทผลิตจํานวน 1000 ชิ้น พบว่ามีตําหนิ350\n",
    "ชิ้น จงประมาณสัดส่วนของแจกันมีตําหนิซึ่งผลิตโดยบริษัทแห่งนี้ที่ช่วงความเชื่อมั่น 95%"
   ]
  },
  {
   "cell_type": "code",
   "execution_count": 29,
   "metadata": {},
   "outputs": [
    {
     "name": "stdout",
     "output_type": "stream",
     "text": [
      "0.32 <= p <= 0.38\n"
     ]
    }
   ],
   "source": [
    "a = 0.05\n",
    "\n",
    "p_hat = 350 / 1000\n",
    "\n",
    "z_crit_left  = stats.norm.ppf(a / 2)\n",
    "z_crit_right = stats.norm.isf(a / 2)\n",
    "\n",
    "left  = p_hat + (z_crit_left  * np.sqrt((p_hat * (1 - p_hat)) / 1000))\n",
    "right = p_hat + (z_crit_right * np.sqrt((p_hat * (1 - p_hat)) / 1000))\n",
    "\n",
    "print(np.round(left, 3), \"<= p <=\", np.round(right, 3))"
   ]
  },
  {
   "cell_type": "markdown",
   "metadata": {},
   "source": [
    "(10 คะแนน) จากการสุ่มตรวจตัวอย่างดินในพื้นที่สองแห่งคือ Area51 และ Area52. แห่งละ 10 ตัวอย่างพบว่ามี\n",
    "ปริมาณแร่คริปโตไนต์ดังนี้ (หน่วยมิลลิกรัม)"
   ]
  },
  {
   "cell_type": "markdown",
   "metadata": {},
   "source": [
    "- Area51.: 50, 45, 44, 52, 51, 43, 49, 46, 56, 44\n",
    "- Area52.: 42, 55, 43, 47, 46, 45, 52, 54, 46, 47"
   ]
  },
  {
   "cell_type": "markdown",
   "metadata": {},
   "source": [
    "หากกําหนดให้ปริมาณสารปนเปื้อนในผักมีการแจกแจงแบบปกติ จงทดสอบว่าความแปรปรวนของสารปนเปื้อน\n",
    "ในตลาด 2 แห่งแตกต่างกันหรือไม่ที่ระดับนัยสําคัญ 0.01"
   ]
  },
  {
   "cell_type": "code",
   "execution_count": 30,
   "metadata": {},
   "outputs": [
    {
     "name": "stdout",
     "output_type": "stream",
     "text": [
      "0.153\n",
      "6.541\n",
      "0.911 0.891\n"
     ]
    }
   ],
   "source": [
    "#H0 2 ที่เท่ากัน\n",
    "#H1 2 ที่ไม่เท่ากัน\n",
    "\n",
    "a = 0.01\n",
    "s1_2 = np.var([50, 45, 44, 52, 51, 43, 49, 46, 56, 44], ddof = 1)\n",
    "s2_2 = np.var([42, 55, 43, 47, 46, 45, 52, 54, 46, 47], ddof = 1)\n",
    "\n",
    "f_cal = s1_2 / s2_2\n",
    "f_crit_left  = stats.f.ppf(a / 2, dfn = 10 - 1, dfd = 10 - 1)\n",
    "f_crit_right = stats.f.isf(a / 2, dfn = 10 - 1, dfd = 10 - 1)\n",
    "p_val = 2 * min(stats.f.cdf(f_cal, dfn = 10 - 1, dfd = 10 - 1), stats.f.sf(f_cal, dfn = 10 - 1, dfd = 10 - 1))\n",
    "\n",
    "print(np.round(f_crit_left, 3))\n",
    "print(np.round(f_crit_right, 3))\n",
    "print(np.round(f_cal, 3), np.round(p_val, 3))\n",
    "\n",
    "#ยอมรับ H0\n",
    "# 2 ที่มีความแปรปรวนเท่ากัน"
   ]
  },
  {
   "cell_type": "markdown",
   "metadata": {},
   "source": [
    "(10 คะแนน) เกมส์ MMORPG เกมส์หนึ่ง ผู้เล่นสามารถเลือกสายอาชีพให้ตัวละครได้ 4 สายคือ knight, wizard,\n",
    "rogue และ necromancer จากการสุ่มเก็บข้อมูลจากผู้เล่นจํานวน 100 รายพบว่ามีผู้เลือกเล่นสายอาชีพ knight,\n",
    "wizard, rogue และ necromancer จํานวน 25, 26, 24 และ 25 รายตามลําดับ หากนักพัฒนาเกมส์ MMORPG\n",
    "ได้วางแผนไว้ว่าจะมีผู้เลือกสายอาชีพ knight:wizard:rogue:necromancer ในอัตราส่วน 1:1:1:1 อัตราส่วนของ\n",
    "ผู้เล่นสายอาชีพทั้ง 4 สายเป็นไปตามการวางแผนของนักพัฒนาเกมส์ที่ระดับนัยสําคัญ 0.01 หรือไม่"
   ]
  },
  {
   "cell_type": "code",
   "execution_count": 31,
   "metadata": {},
   "outputs": [
    {
     "name": "stdout",
     "output_type": "stream",
     "text": [
      "0.08 0.994 11.345\n"
     ]
    }
   ],
   "source": [
    "#H0 อัตราส่วน  = 1:1:1:1\n",
    "#H1 อัตราส่วน != 1:1:1:1\n",
    "\n",
    "a = 0.01\n",
    "n = 100\n",
    "\n",
    "O = np.array([25, 26, 24, 25])\n",
    "P = np.array([1/4, 1/4, 1/4, 1/4])\n",
    "E = n * P\n",
    "\n",
    "chi2_cal, p_val = stats.chisquare(f_obs = O, f_exp = E)\n",
    "chi2_crit = stats.chi2.isf(a, df = 4 - 1) #มี 4 กลุ่ม\n",
    "\n",
    "print(np.round(chi2_cal, 3), np.round(p_val, 3), np.round(chi2_crit, 3))\n",
    "\n",
    "# ยอมรับ H0\n",
    "# อัตราส่วน  = 1:1:1:1"
   ]
  },
  {
   "cell_type": "markdown",
   "metadata": {},
   "source": [
    "(10 คะแนน) บริษัทผลิตรถยนต์แห่งหนึ่ง ต้องการทราบว่าขนาดของรถยนต์มีความสัมพันธ์กับขนาดของครอบครัว\n",
    "ที่ใช้หรือไม่ จึงทําการสุ่มตัวอย่างครอบครัวมา 457 ครอบครัว และทําการเก็บข้อมูลจํานวนสมาชิกในครอบครัว\n",
    "และขนาดของรถยนต์ที่ใช้ได้ข้อมูลดังตาราง"
   ]
  },
  {
   "cell_type": "markdown",
   "metadata": {},
   "source": [
    "![fssf](assets/สกรีนช็อต2025-03-24134944.png)"
   ]
  },
  {
   "cell_type": "markdown",
   "metadata": {},
   "source": [
    "ขนาดของตู้เย็นที่ใช้มีความสัมพันธ์กับขนาดของครอบครัวหรือไม่ที่ระดับนัยสําคัญ 0.05"
   ]
  },
  {
   "cell_type": "code",
   "execution_count": 32,
   "metadata": {},
   "outputs": [
    {
     "name": "stdout",
     "output_type": "stream",
     "text": [
      "93.913 1.941e-19 9.488\n"
     ]
    }
   ],
   "source": [
    "#H0 เป็นอิสระต่อกัน(ไม่มีความสัมพันธ์กัน)\n",
    "#H1 ไม่เป็นอิสระต่อกัน(มีความสัมพันธ์กัน)\n",
    "\n",
    "a = 0.05\n",
    "df = (3 - 1) * (3 - 1)\n",
    "\n",
    "O = np.array([[30, 35, 45], [47, 100, 10], [100, 40, 50]])\n",
    "\n",
    "chi2_cal, p_val, dof, E = stats.chi2_contingency(O, correction = False)\n",
    "chi2_crit = stats.chi2.isf(a, df = df)\n",
    "\n",
    "print(np.round(chi2_cal, 3), np.format_float_scientific(p_val, 3), np.round(chi2_crit, 3))\n",
    "\n",
    "#ยอมรับ H0 \n",
    "#เป็นอิสระต่อกัน"
   ]
  },
  {
   "cell_type": "markdown",
   "metadata": {},
   "source": [
    "(5 คะแนน) จากการเก็บข้อมูลการเข้าชมเว็บไซต์แห่งหนึ่งโดยการสุ่มตัวอย่างผู้เข้าชมจํานวน 10 คน พบว่าใช้เวลา\n",
    "ชมเว็บไซต์ดังนี้ (หน่วยวินาที) 67, 62, 109, 55, 97, 33, 69, 57, 72, 48 จงหาช่วงความเชื่อมั่น 99% ของ\n",
    "ระยะเวลาโดยเฉลี่ยที่ผู้เข้าชมใช้กับเว็บไซต์นี้หากกําหนดให้ระยะเวลาในการเข้าชมเว็บไซต์มีการแจกแจงแบบปกติ\n",
    "และไม่ทราบความแปรปรวนของระยะเวลาในการเข้าชมเว็บไซต์"
   ]
  },
  {
   "cell_type": "code",
   "execution_count": 33,
   "metadata": {},
   "outputs": [
    {
     "name": "stdout",
     "output_type": "stream",
     "text": [
      "43.974 <= x <= 89.826\n"
     ]
    }
   ],
   "source": [
    "a = 0.01\n",
    "x_bar = np.mean([67, 62, 109, 55, 97, 33, 69, 57, 72, 48])\n",
    "s = np.std([67, 62, 109, 55, 97, 33, 69, 57, 72, 48], ddof = 1)\n",
    "\n",
    "t_crit_left  = stats.t.ppf(a / 2, df = 10 - 1)\n",
    "t_crit_right = stats.t.isf(a / 2, df = 10 - 1)\n",
    "\n",
    "left  = x_bar + t_crit_left * (s / np.sqrt(10))\n",
    "right = x_bar + t_crit_right * (s / np.sqrt(10))\n",
    "\n",
    "print(np.round(left, 3), \"<= x <=\", np.round(right, 3))"
   ]
  },
  {
   "cell_type": "markdown",
   "metadata": {},
   "source": [
    "(10 คะแนน) จากการทดสอบ UPS 2 ยี่ห้อคือ A และ B ว่ามีระยะเวลาสํารองไฟสูงสุด (นาที) แตกต่างกันหรือไม่\n",
    "ซึ่งในการทดสอบใช้UPS ยี่ห้อละ 10 เครื่อง ได้ข้อมูลดังนี้"
   ]
  },
  {
   "cell_type": "markdown",
   "metadata": {},
   "source": [
    "- ยี่ห้อ A: 53, 62, 45, 47, 54, 56, 66, 71, 48, 57\n",
    "- ยี่ห้อ B: 32, 49, 54, 57, 67, 42, 44, 54, 57, 46"
   ]
  },
  {
   "cell_type": "markdown",
   "metadata": {},
   "source": [
    "!!!!!!จงทดสอบว่าระยะเวลาสํารองไฟสูงสุดโดยเฉลี่ยของ UPS 2 ยี่ห้อแตกต่างกันหรือไม่ที่ระดับนัยสําคัญ 0.1 หาก\n",
    "กําหนดให้ระยะเวลาสํารองไฟสูงสุดของ UPS ทั้ง 2 ยี่ห้อ มีความแปรปรวนต่างกัน"
   ]
  },
  {
   "cell_type": "code",
   "execution_count": 34,
   "metadata": {},
   "outputs": [
    {
     "name": "stdout",
     "output_type": "stream",
     "text": [
      "-1.732\n",
      "1.732\n",
      "1.396 0.18\n"
     ]
    }
   ],
   "source": [
    "a = 0.1\n",
    "\n",
    "s2_1 = np.var([53, 62, 45, 47, 54, 56, 66, 71, 48, 57], ddof = 1)\n",
    "s2_2 = np.var([32, 49, 54, 57, 67, 42, 44, 54, 57, 46], ddof = 1)\n",
    "\n",
    "df = ((s2_1**2 / 10) + (s2_2**2 / 10))**2 / ((((s2_1**2 / 10) ** 2) / 10 - 1) + (((s2_2**2 / 10) ** 2) / 10 - 1))\n",
    "\n",
    "t_cal, p_val = stats.ttest_ind(a = [53, 62, 45, 47, 54, 56, 66, 71, 48, 57], b = [32, 49, 54, 57, 67, 42, 44, 54, 57, 46], equal_var = False, alternative = \"two-sided\")\n",
    "t_crit_left  = stats.t.ppf(a / 2, df = df)\n",
    "t_crit_right = stats.t.isf(a / 2, df = df)\n",
    "\n",
    "print(np.round(t_crit_left, 3))\n",
    "print(np.round(t_crit_right, 3))\n",
    "print(np.round(t_cal, 3), np.round(p_val, 3))"
   ]
  },
  {
   "cell_type": "markdown",
   "metadata": {},
   "source": [
    "แผนกวิจัยตลาดของบริษัทเครื่องส าอางแห่งหนึ่ง ต้องการศึกษาความสัมพันธ์ระหว่างค่าใช้จ่ายในการโฆษณาและยอดขาย โดยที่ข้อมูล\n",
    "เกี่ยวกับค่าใช้จ่ายและยอดขายดังนี้"
   ]
  },
  {
   "cell_type": "markdown",
   "metadata": {},
   "source": [
    "![fdfasf](assets/สกรีนช็อต2025-03-24173131.png)"
   ]
  },
  {
   "cell_type": "markdown",
   "metadata": {},
   "source": [
    "จงหาค่า r และทดสอบว่าข้อมูลนี้มีความสัมพันธ์หรือไม่ที่ระดับนัยยะสำคัญ 0.05"
   ]
  },
  {
   "cell_type": "code",
   "execution_count": 35,
   "metadata": {},
   "outputs": [
    {
     "data": {
      "text/html": [
       "<div>\n",
       "<style scoped>\n",
       "    .dataframe tbody tr th:only-of-type {\n",
       "        vertical-align: middle;\n",
       "    }\n",
       "\n",
       "    .dataframe tbody tr th {\n",
       "        vertical-align: top;\n",
       "    }\n",
       "\n",
       "    .dataframe thead th {\n",
       "        text-align: right;\n",
       "    }\n",
       "</style>\n",
       "<table border=\"1\" class=\"dataframe\">\n",
       "  <thead>\n",
       "    <tr style=\"text-align: right;\">\n",
       "      <th></th>\n",
       "      <th>ad_cost</th>\n",
       "      <th>sale</th>\n",
       "    </tr>\n",
       "  </thead>\n",
       "  <tbody>\n",
       "    <tr>\n",
       "      <th>0</th>\n",
       "      <td>3.7</td>\n",
       "      <td>42.5</td>\n",
       "    </tr>\n",
       "    <tr>\n",
       "      <th>1</th>\n",
       "      <td>2.0</td>\n",
       "      <td>35.0</td>\n",
       "    </tr>\n",
       "    <tr>\n",
       "      <th>2</th>\n",
       "      <td>3.0</td>\n",
       "      <td>39.5</td>\n",
       "    </tr>\n",
       "    <tr>\n",
       "      <th>3</th>\n",
       "      <td>2.0</td>\n",
       "      <td>36.5</td>\n",
       "    </tr>\n",
       "    <tr>\n",
       "      <th>4</th>\n",
       "      <td>3.5</td>\n",
       "      <td>47.5</td>\n",
       "    </tr>\n",
       "    <tr>\n",
       "      <th>5</th>\n",
       "      <td>4.8</td>\n",
       "      <td>44.0</td>\n",
       "    </tr>\n",
       "    <tr>\n",
       "      <th>6</th>\n",
       "      <td>4.5</td>\n",
       "      <td>49.0</td>\n",
       "    </tr>\n",
       "    <tr>\n",
       "      <th>7</th>\n",
       "      <td>4.5</td>\n",
       "      <td>48.0</td>\n",
       "    </tr>\n",
       "    <tr>\n",
       "      <th>8</th>\n",
       "      <td>3.8</td>\n",
       "      <td>42.0</td>\n",
       "    </tr>\n",
       "    <tr>\n",
       "      <th>9</th>\n",
       "      <td>5.0</td>\n",
       "      <td>56.0</td>\n",
       "    </tr>\n",
       "    <tr>\n",
       "      <th>10</th>\n",
       "      <td>4.0</td>\n",
       "      <td>52.5</td>\n",
       "    </tr>\n",
       "    <tr>\n",
       "      <th>11</th>\n",
       "      <td>5.0</td>\n",
       "      <td>51.0</td>\n",
       "    </tr>\n",
       "  </tbody>\n",
       "</table>\n",
       "</div>"
      ],
      "text/plain": [
       "    ad_cost  sale\n",
       "0       3.7  42.5\n",
       "1       2.0  35.0\n",
       "2       3.0  39.5\n",
       "3       2.0  36.5\n",
       "4       3.5  47.5\n",
       "5       4.8  44.0\n",
       "6       4.5  49.0\n",
       "7       4.5  48.0\n",
       "8       3.8  42.0\n",
       "9       5.0  56.0\n",
       "10      4.0  52.5\n",
       "11      5.0  51.0"
      ]
     },
     "execution_count": 35,
     "metadata": {},
     "output_type": "execute_result"
    }
   ],
   "source": [
    "df = pd.read_csv(\"https://raw.githubusercontent.com/ThammakornS/ProgStat/main/dataset/sale.csv\")\n",
    "df "
   ]
  },
  {
   "cell_type": "code",
   "execution_count": 36,
   "metadata": {},
   "outputs": [
    {
     "name": "stdout",
     "output_type": "stream",
     "text": [
      "-1.8124611228107341\n",
      "1.8124611228107341\n",
      "4.916 0.841\n"
     ]
    }
   ],
   "source": [
    "#H0 ไม่มีความสัมพันธ์กัน\n",
    "#H1 มีความสัมพันธ์กัน\n",
    "\n",
    "r, p_val = stats.pearsonr(df['ad_cost'], df['sale'])\n",
    "sr = np.sqrt((1 - r**2) / (12 - 2))\n",
    "\n",
    "t_cal = r / sr\n",
    "t_crit_left  = stats.t.ppf(a / 2, df = 12 - 2)\n",
    "t_crit_right = stats.t.isf(a / 2, df = 12 - 2)\n",
    "\n",
    "print(t_crit_left)\n",
    "print(t_crit_right)\n",
    "\n",
    "print(np.round(t_cal, 3), np.round(r, 3))\n",
    "\n",
    "#ยอมรับ H1 \n",
    "# มีความสัมพันธ์กัน\n"
   ]
  },
  {
   "cell_type": "markdown",
   "metadata": {},
   "source": [
    "จากแบบทดสอบที่ 11.2 จงวิเคราะห์สัมประสิทธิ์สหสัมพันธ์ที่ได้ว่าค่าใช้จ่ายในการโฆษณาและยอดขายของบริษัทมีความสัมพันธ์เชิงเส้น\n",
    "หรือไม่ที่ระดับนัยส าคัญ 0.05"
   ]
  },
  {
   "cell_type": "code",
   "execution_count": 37,
   "metadata": {},
   "outputs": [
    {
     "data": {
      "text/html": [
       "<div>\n",
       "<style scoped>\n",
       "    .dataframe tbody tr th:only-of-type {\n",
       "        vertical-align: middle;\n",
       "    }\n",
       "\n",
       "    .dataframe tbody tr th {\n",
       "        vertical-align: top;\n",
       "    }\n",
       "\n",
       "    .dataframe thead th {\n",
       "        text-align: right;\n",
       "    }\n",
       "</style>\n",
       "<table border=\"1\" class=\"dataframe\">\n",
       "  <thead>\n",
       "    <tr style=\"text-align: right;\">\n",
       "      <th></th>\n",
       "      <th>mk_share</th>\n",
       "      <th>payback_customer</th>\n",
       "    </tr>\n",
       "  </thead>\n",
       "  <tbody>\n",
       "    <tr>\n",
       "      <th>0</th>\n",
       "      <td>15</td>\n",
       "      <td>24</td>\n",
       "    </tr>\n",
       "    <tr>\n",
       "      <th>1</th>\n",
       "      <td>14</td>\n",
       "      <td>20</td>\n",
       "    </tr>\n",
       "    <tr>\n",
       "      <th>2</th>\n",
       "      <td>18</td>\n",
       "      <td>25</td>\n",
       "    </tr>\n",
       "    <tr>\n",
       "      <th>3</th>\n",
       "      <td>20</td>\n",
       "      <td>28</td>\n",
       "    </tr>\n",
       "    <tr>\n",
       "      <th>4</th>\n",
       "      <td>10</td>\n",
       "      <td>15</td>\n",
       "    </tr>\n",
       "    <tr>\n",
       "      <th>5</th>\n",
       "      <td>11</td>\n",
       "      <td>15</td>\n",
       "    </tr>\n",
       "    <tr>\n",
       "      <th>6</th>\n",
       "      <td>13</td>\n",
       "      <td>16</td>\n",
       "    </tr>\n",
       "    <tr>\n",
       "      <th>7</th>\n",
       "      <td>16</td>\n",
       "      <td>17</td>\n",
       "    </tr>\n",
       "    <tr>\n",
       "      <th>8</th>\n",
       "      <td>10</td>\n",
       "      <td>12</td>\n",
       "    </tr>\n",
       "    <tr>\n",
       "      <th>9</th>\n",
       "      <td>12</td>\n",
       "      <td>13</td>\n",
       "    </tr>\n",
       "    <tr>\n",
       "      <th>10</th>\n",
       "      <td>15</td>\n",
       "      <td>15</td>\n",
       "    </tr>\n",
       "    <tr>\n",
       "      <th>11</th>\n",
       "      <td>17</td>\n",
       "      <td>16</td>\n",
       "    </tr>\n",
       "    <tr>\n",
       "      <th>12</th>\n",
       "      <td>22</td>\n",
       "      <td>30</td>\n",
       "    </tr>\n",
       "    <tr>\n",
       "      <th>13</th>\n",
       "      <td>19</td>\n",
       "      <td>25</td>\n",
       "    </tr>\n",
       "  </tbody>\n",
       "</table>\n",
       "</div>"
      ],
      "text/plain": [
       "    mk_share  payback_customer\n",
       "0         15                24\n",
       "1         14                20\n",
       "2         18                25\n",
       "3         20                28\n",
       "4         10                15\n",
       "5         11                15\n",
       "6         13                16\n",
       "7         16                17\n",
       "8         10                12\n",
       "9         12                13\n",
       "10        15                15\n",
       "11        17                16\n",
       "12        22                30\n",
       "13        19                25"
      ]
     },
     "execution_count": 37,
     "metadata": {},
     "output_type": "execute_result"
    }
   ],
   "source": [
    "df = pd.read_csv(\"https://raw.githubusercontent.com/ThammakornS/ProgStat/main/dataset/cosmetic.csv\")\n",
    "df"
   ]
  },
  {
   "cell_type": "code",
   "execution_count": 38,
   "metadata": {},
   "outputs": [
    {
     "name": "stdout",
     "output_type": "stream",
     "text": [
      "-2.178812829663418\n",
      "2.178812829663418\n",
      "5.425 0.864 6.794e-05\n"
     ]
    }
   ],
   "source": [
    "a = 0.05\n",
    "\n",
    "r, p_val = stats.pearsonr([15, 14, 18, 20, 10, 11, 13, 16, 10, 12, 15, 17, 22, 19], [24, 20, 25, 28, 15, 15, 16, 17, 12, 13, 15, 16, 30, 25])\n",
    "sr = np.sqrt((1 - r**2) / (12 - 2))\n",
    "\n",
    "t_cal = r / sr\n",
    "t_crit_left  = stats.t.ppf(a / 2, 14 - 2)\n",
    "t_crit_right = stats.t.isf(a / 2, 14 - 2)\n",
    "\n",
    "print(t_crit_left)\n",
    "print(t_crit_right)\n",
    "\n",
    "print(np.round(t_cal, 3), np.round(r, 3), np.format_float_scientific(p_val, 3))"
   ]
  },
  {
   "cell_type": "code",
   "execution_count": null,
   "metadata": {},
   "outputs": [
    {
     "name": "stdout",
     "output_type": "stream",
     "text": [
      "4.747225346722511\n",
      "                            OLS Regression Results                            \n",
      "==============================================================================\n",
      "Dep. Variable:                      y   R-squared:                       0.746\n",
      "Model:                            OLS   Adj. R-squared:                  0.725\n",
      "Method:                 Least Squares   F-statistic:                     35.31\n",
      "Date:                Tue, 25 Mar 2025   Prob (F-statistic):           6.79e-05\n",
      "Time:                        11:49:31   Log-Likelihood:                -34.603\n",
      "No. Observations:                  14   AIC:                             73.21\n",
      "Df Residuals:                      12   BIC:                             74.48\n",
      "Df Model:                           1                                         \n",
      "Covariance Type:            nonrobust                                         \n",
      "==============================================================================\n",
      "                 coef    std err          t      P>|t|      [0.025      0.975]\n",
      "------------------------------------------------------------------------------\n",
      "const         -1.1905      3.555     -0.335      0.744      -8.937       6.556\n",
      "x1             1.3569      0.228      5.942      0.000       0.859       1.854\n",
      "==============================================================================\n",
      "Omnibus:                        0.988   Durbin-Watson:                   0.824\n",
      "Prob(Omnibus):                  0.610   Jarque-Bera (JB):                0.778\n",
      "Skew:                          -0.509   Prob(JB):                        0.678\n",
      "Kurtosis:                       2.455   Cond. No.                         67.2\n",
      "==============================================================================\n",
      "\n",
      "Notes:\n",
      "[1] Standard Errors assume that the covariance matrix of the errors is correctly specified.\n"
     ]
    },
    {
     "name": "stderr",
     "output_type": "stream",
     "text": [
      "c:\\Users\\trai 004\\anaconda3\\envs\\pstat13\\Lib\\site-packages\\scipy\\stats\\_axis_nan_policy.py:418: UserWarning: `kurtosistest` p-value may be inaccurate with fewer than 20 observations; only n=14 observations were given.\n",
      "  return hypotest_fun_in(*args, **kwds)\n"
     ]
    }
   ],
   "source": [
    "x = [15, 14, 18, 20, 10, 11, 13, 16, 10, 12, 15, 17, 22, 19]\n",
    "y = [24, 20, 25, 28, 15, 15, 16, 17, 12, 13, 15, 16, 30, 25]\n",
    "\n",
    "f_crit_right = stats.f.isf(a, dfn = 1, dfd = 14 - 2)\n",
    "print(np.round(f_crit_right, 3))\n",
    "\n",
    "x_wconst = sm.add_constant(x)\n",
    "lr = sm.OLS(y, x_wconst).fit()\n",
    "print(lr.summary())\n"
   ]
  },
  {
   "cell_type": "code",
   "execution_count": 40,
   "metadata": {},
   "outputs": [
    {
     "name": "stdout",
     "output_type": "stream",
     "text": [
      "0.864\n"
     ]
    }
   ],
   "source": [
    "print(np.round(np.sqrt(0.746), 3))"
   ]
  },
  {
   "cell_type": "markdown",
   "metadata": {},
   "source": []
  }
 ],
 "metadata": {
  "kernelspec": {
   "display_name": "pstat13",
   "language": "python",
   "name": "python3"
  },
  "language_info": {
   "codemirror_mode": {
    "name": "ipython",
    "version": 3
   },
   "file_extension": ".py",
   "mimetype": "text/x-python",
   "name": "python",
   "nbconvert_exporter": "python",
   "pygments_lexer": "ipython3",
   "version": "3.13.0"
  }
 },
 "nbformat": 4,
 "nbformat_minor": 2
}
